{
 "cells": [
  {
   "cell_type": "code",
   "execution_count": 1,
   "id": "5478490d-d303-47bc-b534-664c7ee559ba",
   "metadata": {},
   "outputs": [],
   "source": [
    "# pip install --upgrade scikit-learn"
   ]
  },
  {
   "cell_type": "code",
   "execution_count": 2,
   "id": "f1dd4b24-b7e3-4f57-8d28-9c3a828f48be",
   "metadata": {},
   "outputs": [
    {
     "name": "stdout",
     "output_type": "stream",
     "text": [
      "Import successful\n"
     ]
    }
   ],
   "source": [
    "import numpy as np\n",
    "import pandas as pd\n",
    "from sklearn import datasets\n",
    "from sklearn.cluster import KMeans, AgglomerativeClustering, DBSCAN, Birch\n",
    "from sklearn.metrics import jaccard_score, adjusted_rand_score, calinski_harabasz_score, silhouette_score, davies_bouldin_score\n",
    "from sklearn.preprocessing import StandardScaler\n",
    "from sklearn.decomposition import PCA\n",
    "print('Import successful')"
   ]
  },
  {
   "cell_type": "code",
   "execution_count": 3,
   "id": "202838c8-39e3-4d36-bfbd-b326864dee1b",
   "metadata": {},
   "outputs": [],
   "source": [
    "# Load data\n",
    "df = pd.read_csv('Mall_Customers.csv')\n",
    "# Fixing the 'Gender' column name\n",
    "df.rename(columns={'Genre': 'Gender'}, inplace=True)"
   ]
  },
  {
   "cell_type": "code",
   "execution_count": 4,
   "id": "bb939c2d-6706-4713-a074-b89da329f15f",
   "metadata": {},
   "outputs": [
    {
     "data": {
      "text/html": [
       "<div>\n",
       "<style scoped>\n",
       "    .dataframe tbody tr th:only-of-type {\n",
       "        vertical-align: middle;\n",
       "    }\n",
       "\n",
       "    .dataframe tbody tr th {\n",
       "        vertical-align: top;\n",
       "    }\n",
       "\n",
       "    .dataframe thead th {\n",
       "        text-align: right;\n",
       "    }\n",
       "</style>\n",
       "<table border=\"1\" class=\"dataframe\">\n",
       "  <thead>\n",
       "    <tr style=\"text-align: right;\">\n",
       "      <th></th>\n",
       "      <th>CustomerID</th>\n",
       "      <th>Gender</th>\n",
       "      <th>Age</th>\n",
       "      <th>Annual Income (k$)</th>\n",
       "      <th>Spending Score (1-100)</th>\n",
       "    </tr>\n",
       "  </thead>\n",
       "  <tbody>\n",
       "    <tr>\n",
       "      <th>0</th>\n",
       "      <td>1</td>\n",
       "      <td>Male</td>\n",
       "      <td>19</td>\n",
       "      <td>15</td>\n",
       "      <td>39</td>\n",
       "    </tr>\n",
       "    <tr>\n",
       "      <th>1</th>\n",
       "      <td>2</td>\n",
       "      <td>Male</td>\n",
       "      <td>21</td>\n",
       "      <td>15</td>\n",
       "      <td>81</td>\n",
       "    </tr>\n",
       "    <tr>\n",
       "      <th>2</th>\n",
       "      <td>3</td>\n",
       "      <td>Female</td>\n",
       "      <td>20</td>\n",
       "      <td>16</td>\n",
       "      <td>6</td>\n",
       "    </tr>\n",
       "    <tr>\n",
       "      <th>3</th>\n",
       "      <td>4</td>\n",
       "      <td>Female</td>\n",
       "      <td>23</td>\n",
       "      <td>16</td>\n",
       "      <td>77</td>\n",
       "    </tr>\n",
       "    <tr>\n",
       "      <th>4</th>\n",
       "      <td>5</td>\n",
       "      <td>Female</td>\n",
       "      <td>31</td>\n",
       "      <td>17</td>\n",
       "      <td>40</td>\n",
       "    </tr>\n",
       "  </tbody>\n",
       "</table>\n",
       "</div>"
      ],
      "text/plain": [
       "   CustomerID  Gender  Age  Annual Income (k$)  Spending Score (1-100)\n",
       "0           1    Male   19                  15                      39\n",
       "1           2    Male   21                  15                      81\n",
       "2           3  Female   20                  16                       6\n",
       "3           4  Female   23                  16                      77\n",
       "4           5  Female   31                  17                      40"
      ]
     },
     "execution_count": 4,
     "metadata": {},
     "output_type": "execute_result"
    }
   ],
   "source": [
    "df.head()"
   ]
  },
  {
   "cell_type": "code",
   "execution_count": 5,
   "id": "a35e2a88-dd23-4440-bf51-c621b2c9aea9",
   "metadata": {},
   "outputs": [],
   "source": [
    "# Change from Male and Female to 0-1 \n",
    "df.Gender = [1 if each == \"Female\" else 0 for each in df.Gender ]"
   ]
  },
  {
   "cell_type": "code",
   "execution_count": 6,
   "id": "7a3f643a-440d-45be-8214-8da48e6ef1bb",
   "metadata": {},
   "outputs": [],
   "source": [
    "# Extract features for clustering (ignoring 'CustomerID' and 'Gender' for now)\n",
    "features = df[['Age', 'Annual Income (k$)', 'Spending Score (1-100)']]"
   ]
  },
  {
   "cell_type": "code",
   "execution_count": 7,
   "id": "8d74543e-83e2-4e7e-b7bc-42b9fa7544df",
   "metadata": {},
   "outputs": [],
   "source": [
    "# Standardize the data\n",
    "# A preprocessing step that transforms the features of a dataset to have a mean of 0 and a standard deviation of 1. \n",
    "# This is important in machine learning, especially for algorithms that rely on distance metrics or gradient-based optimization.\n",
    "# It ensures that all features contribute equally to the analysis. It is particularly useful when features have different units or scales. \n",
    "scaler = StandardScaler()\n",
    "scaled_data = scaler.fit_transform(df)"
   ]
  },
  {
   "cell_type": "code",
   "execution_count": 8,
   "id": "25e553b6-8ad1-44e5-975f-8117fc4ec7c3",
   "metadata": {},
   "outputs": [],
   "source": [
    "# Apply PCA for dimensionality reduction\n",
    "# PCA is a dimensionality reduction technique that aims to transform the original features of a dataset into a new set of \n",
    "# uncorrelated features, called principal components. These principal components capture the maximum variance in the data.\n",
    "# PCA is often used for reducing the number of features in a dataset while retaining as much of the original variability as possible. \n",
    "# Especially useful when dealing with high-dimensional data or when there is multicollinearity among features.\n",
    "pca = PCA(n_components=2)\n",
    "reduced_data = pca.fit_transform(scaled_data)\n",
    "# 'n_components' specifies the number of principal components to retain. "
   ]
  },
  {
   "cell_type": "code",
   "execution_count": 9,
   "id": "c1f36329-55a3-4686-889f-8f5ae125e8e8",
   "metadata": {},
   "outputs": [],
   "source": [
    "# Apply clustering algorithms\n",
    "kmeans = KMeans(n_clusters=2, random_state=42)\n",
    "agglomerative = AgglomerativeClustering(n_clusters=2)\n",
    "dbscan = DBSCAN(eps=0.5, min_samples=5)\n",
    "birch = Birch(n_clusters=2)"
   ]
  },
  {
   "cell_type": "code",
   "execution_count": 10,
   "id": "98cdce82-5b3d-457b-b44d-49cab8341f28",
   "metadata": {},
   "outputs": [
    {
     "name": "stderr",
     "output_type": "stream",
     "text": [
      "/Users/cristovalneosasono/DataScience_Foundations/venv/lib/python3.10/site-packages/sklearn/cluster/_kmeans.py:1416: FutureWarning: The default value of `n_init` will change from 10 to 'auto' in 1.4. Set the value of `n_init` explicitly to suppress the warning\n",
      "  super()._check_params_vs_input(X, default_n_init=10)\n"
     ]
    }
   ],
   "source": [
    "# Fit the models\n",
    "kmeans_labels = kmeans.fit_predict(scaled_data)\n",
    "agglomerative_labels = agglomerative.fit_predict(scaled_data)\n",
    "dbscan_labels = dbscan.fit_predict(scaled_data)\n",
    "birch_labels = birch.fit_predict(scaled_data)"
   ]
  },
  {
   "cell_type": "code",
   "execution_count": 11,
   "id": "30779569-3ac7-461f-853c-6af97a002eda",
   "metadata": {},
   "outputs": [],
   "source": [
    "# Evaluate the clustering results using metrics\n",
    "silhouette = [silhouette_score(scaled_data, predicted_labels) for predicted_labels in [kmeans_labels, agglomerative_labels, dbscan_labels, birch_labels]]\n",
    "davies_bouldin = [davies_bouldin_score(scaled_data, predicted_labels) for predicted_labels in [kmeans_labels, agglomerative_labels, dbscan_labels, birch_labels]]"
   ]
  },
  {
   "cell_type": "code",
   "execution_count": 13,
   "id": "21e077a5-5917-4c85-8144-2f4a131d9277",
   "metadata": {},
   "outputs": [
    {
     "name": "stdout",
     "output_type": "stream",
     "text": [
      "Clustering Methods    : kmeans_labels, agglomerative_lables, dbscan_labels, birch_labels\n",
      "Silhouette Scores     : [0.25418996301027574, 0.2511952763244898, -0.128701372094438, 0.1940733413172533]\n",
      "Davies Bouldin Indices: [1.5412318706224073, 1.5635131897716499, 1.5094575126273528, 1.8460238296285925]\n"
     ]
    }
   ],
   "source": [
    "# Print or store the results\n",
    "print(\"Clustering Methods    : kmeans_labels, agglomerative_lables, dbscan_labels, birch_labels\")\n",
    "print(\"Silhouette Scores     :\", silhouette)\n",
    "print(\"Davies Bouldin Indices:\", davies_bouldin)"
   ]
  },
  {
   "cell_type": "code",
   "execution_count": null,
   "id": "282788be-b8ff-4d36-8e1b-c365ad02d256",
   "metadata": {},
   "outputs": [],
   "source": [
    "# Silhouette scores \n",
    "# It indicate the overall quality of clustering, with higher values being desirable.\n",
    "# A silhouette score ranges from -1 to 1."
   ]
  },
  {
   "cell_type": "code",
   "execution_count": 15,
   "id": "50235bd6-407a-41a3-9d42-07bb5ebe12ee",
   "metadata": {},
   "outputs": [],
   "source": [
    "# Davies Bouldin Index\n",
    "# Davies Bouldin Index assesses the compactness and separation of clusters, with lower values being preferable.\n",
    "# A lower score indicates better clustering."
   ]
  }
 ],
 "metadata": {
  "kernelspec": {
   "display_name": "Python 3 (ipykernel)",
   "language": "python",
   "name": "python3"
  },
  "language_info": {
   "codemirror_mode": {
    "name": "ipython",
    "version": 3
   },
   "file_extension": ".py",
   "mimetype": "text/x-python",
   "name": "python",
   "nbconvert_exporter": "python",
   "pygments_lexer": "ipython3",
   "version": "3.10.4"
  }
 },
 "nbformat": 4,
 "nbformat_minor": 5
}
