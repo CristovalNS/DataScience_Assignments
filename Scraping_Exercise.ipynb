{
 "cells": [
  {
   "cell_type": "code",
   "execution_count": 58,
   "id": "3f8ed691-9e00-4401-aed1-8c82b4bcc322",
   "metadata": {},
   "outputs": [],
   "source": [
    "from bs4 import BeautifulSoup\n",
    "import requests\n",
    "import re\n",
    "import pandas as pd"
   ]
  },
  {
   "cell_type": "code",
   "execution_count": 59,
   "id": "026ae080-698e-4362-8b59-1135a8121b3b",
   "metadata": {},
   "outputs": [],
   "source": [
    "headers = {'Accept-Language': 'en-US,en;q=0.8'}"
   ]
  },
  {
   "cell_type": "code",
   "execution_count": 60,
   "id": "6fbcc370-1261-40f1-a942-14be6b20b417",
   "metadata": {},
   "outputs": [
    {
     "name": "stdout",
     "output_type": "stream",
     "text": [
      "Code ran\n"
     ]
    }
   ],
   "source": [
    "# DetikNews\n",
    "# Send a GET request to a website, parse the HTML, and confirm successful execution\n",
    "url = 'https://news.detik.com'\n",
    "response = requests.get(url,headers=headers)\n",
    "soup = BeautifulSoup(response.text, \"html.parser\")\n",
    "print(\"Code ran\")"
   ]
  },
  {
   "cell_type": "code",
   "execution_count": 61,
   "id": "f62243d6-0bdb-45e2-93c6-61063fe4ccfc",
   "metadata": {},
   "outputs": [
    {
     "name": "stdout",
     "output_type": "stream",
     "text": [
      "<h2 class=\"media__title\">\n",
      "<a class=\"media__link\" dtr-act=\"artikel\" dtr-evt=\"box berita utama\" dtr-id=\"6938705\" dtr-idx=\"1\" dtr-sec=\"\" dtr-ttl=\"Akhirnya, AS Temukan Jet Tempur Siluman F-35 yang Hilang!\" href=\"https://news.detik.com/internasional/d-6938705/akhirnya-as-temukan-jet-tempur-siluman-f-35-yang-hilang\" onclick=\"_pt(this)\">\n",
      " Akhirnya, AS Temukan Jet Tempur Siluman F-35 yang Hilang! </a>\n",
      "</h2>\n",
      " \n",
      "Amount of titles available =  6\n"
     ]
    }
   ],
   "source": [
    "news_data = soup.select('div h2.media__title')\n",
    "print(news_data[0])\n",
    "print(\" \")\n",
    "print(\"Amount of titles available = \",len(soup.select('div h2.media__title')))"
   ]
  },
  {
   "cell_type": "code",
   "execution_count": 62,
   "id": "928ec526-caee-41eb-b5c7-82c8da1e31cf",
   "metadata": {},
   "outputs": [
    {
     "name": "stdout",
     "output_type": "stream",
     "text": [
      "<a class=\"media__link\" dtr-act=\"artikel\" dtr-evt=\"box berita utama\" dtr-id=\"6938705\" dtr-idx=\"1\" dtr-sec=\"\" dtr-ttl=\"Akhirnya, AS Temukan Jet Tempur Siluman F-35 yang Hilang!\" href=\"https://news.detik.com/internasional/d-6938705/akhirnya-as-temukan-jet-tempur-siluman-f-35-yang-hilang\" onclick=\"_pt(this)\">\n",
      " Akhirnya, AS Temukan Jet Tempur Siluman F-35 yang Hilang! </a>\n"
     ]
    }
   ],
   "source": [
    "news_link_and_title = soup.select('div h2.media__title a')\n",
    "print(news_link_and_title[0])"
   ]
  },
  {
   "cell_type": "code",
   "execution_count": 63,
   "id": "6e70d767-201b-46f3-8cf8-8e6ee11f137b",
   "metadata": {},
   "outputs": [
    {
     "name": "stdout",
     "output_type": "stream",
     "text": [
      "https://news.detik.com/internasional/d-6938705/akhirnya-as-temukan-jet-tempur-siluman-f-35-yang-hilang\n"
     ]
    }
   ],
   "source": [
    "links=[]\n",
    "for a in soup.select('div h2.media__title a'):\n",
    "  links.append(a.attrs.get('href'))\n",
    "\n",
    "print(links[0])"
   ]
  },
  {
   "cell_type": "code",
   "execution_count": 64,
   "id": "ec80cf4a-b22b-4a39-b080-ddac0b439f36",
   "metadata": {},
   "outputs": [
    {
     "name": "stdout",
     "output_type": "stream",
     "text": [
      "['Akhirnya, AS Temukan Jet Tempur Siluman F-35 yang Hilang!', 'Siskaeee Janji Penuhi Panggilan Pemeriksaan Kasus Film Porno Pekan Depan', 'Lonjakan Harga Beras Dunia Cuatkan Harapan-Nestapa Petani Thailand', 'Jokowi soal Punya Data Intelijen: Itu Makanan Sehari-hari Saya', '5 Fakta Nur Utami Selebgram Tersangka Baru Jaringan Fredy Pratama', 'Duduk Perkara Saling Usir Diplomat Bikin Panas India Vs Kanada']\n",
      "['https://news.detik.com/internasional/d-6938705/akhirnya-as-temukan-jet-tempur-siluman-f-35-yang-hilang', 'https://news.detik.com/berita/d-6938704/siskaeee-janji-penuhi-panggilan-pemeriksaan-kasus-film-porno-pekan-depan', 'https://news.detik.com/dw/d-6938693/lonjakan-harga-beras-dunia-cuatkan-harapan-nestapa-petani-thailand', 'https://news.detik.com/pemilu/d-6938482/jokowi-soal-punya-data-intelijen-itu-makanan-sehari-hari-saya', 'https://news.detik.com/berita/d-6938436/5-fakta-nur-utami-selebgram-tersangka-baru-jaringan-fredy-pratama', 'https://news.detik.com/internasional/d-6940068/duduk-perkara-saling-usir-diplomat-bikin-panas-india-vs-kanada']\n"
     ]
    }
   ],
   "source": [
    "article_title=[]\n",
    "links=[]\n",
    "\n",
    "for t in soup.select('div h2.media__title a'):\n",
    "    title_text = t.get_text().strip()  # Strip newline\n",
    "    article_title.append(title_text)\n",
    "    links.append(t.attrs.get('href'))\n",
    "\n",
    "print(article_title)\n",
    "print(links)"
   ]
  },
  {
   "cell_type": "code",
   "execution_count": 8,
   "id": "47e4e808-8225-4639-a198-ff947aa3de73",
   "metadata": {},
   "outputs": [
    {
     "name": "stdout",
     "output_type": "stream",
     "text": [
      "Day: Selasa\n",
      "Date: 19 Sep 2023\n",
      "Time: 10:27\n",
      "Day: Selasa\n",
      "Date: 19 Sep 2023\n",
      "Time: 10:27\n",
      "Day: Selasa\n",
      "Date: 19 Sep 2023\n",
      "Time: 10:21\n",
      "Day: Selasa\n",
      "Date: 19 Sep 2023\n",
      "Time: 08:05\n",
      "Day: Selasa\n",
      "Date: 19 Sep 2023\n",
      "Time: 07:00\n",
      "Day: Selasa\n",
      "Date: 19 Sep 2023\n",
      "Time: 20:00\n",
      "['Novi Christiastuti', 'Wildan Noviansah', 'Deutsche Welle (DW)', 'Anggi Muliawati', 'Tim detikcom', 'Devi Puspitasari'] ['Selasa', 'Selasa', 'Selasa', 'Selasa', 'Selasa', 'Selasa'] ['19 Sep 2023', '19 Sep 2023', '19 Sep 2023', '19 Sep 2023', '19 Sep 2023', '19 Sep 2023'] ['10:27', '10:27', '10:21', '08:05', '07:00', '20:00']\n"
     ]
    }
   ],
   "source": [
    "# Extracting information and populating the lists\n",
    "author = []\n",
    "day = []\n",
    "date = []\n",
    "time = []\n",
    "\n",
    "for x in links:\n",
    "    url_n1 = x\n",
    "    response_n1 = requests.get(url_n1,headers=headers)\n",
    "    soup_n1 = BeautifulSoup(response_n1.text, \"html.parser\")\n",
    "    # print(\"Code ran\")\n",
    "\n",
    "    author_name = soup_n1.select('div.detail__author')\n",
    "    # print(author_name)\n",
    "\n",
    "    news_date = soup_n1.select('div.detail__date')\n",
    "    # print(news_date)\n",
    "\n",
    "    author_div = soup_n1.select_one('div.detail__author')  # Select the author div\n",
    "\n",
    "    if author_div:\n",
    "        author_name = author_div.get_text(strip=True).split('-')[0].strip()\n",
    "        # print(author_name)\n",
    "    else:\n",
    "        print(\"Author div not found.\")\n",
    "\n",
    "    date_div = soup_n1.select_one('div.detail__date')  # Select the author div\n",
    "\n",
    "    if date_div:\n",
    "        news_date = date_div.get_text(strip=True).split('-')[0].strip()\n",
    "        # print(news_date)\n",
    "    else:\n",
    "        print(\"News date div not found.\")\n",
    "\n",
    "    date_parts = news_date.split()\n",
    "\n",
    "    day_temp = date_parts[0].replace(',', '') \n",
    "    date_temp = \" \".join(date_parts[1:4])  \n",
    "    time_temp = date_parts[4] \n",
    "    \n",
    "    print(\"Day:\", day_temp)\n",
    "    print(\"Date:\", date_temp)\n",
    "    print(\"Time:\", time_temp)\n",
    "\n",
    "    author.append(author_name)\n",
    "    day.append(day_temp)\n",
    "    date.append(date_temp)\n",
    "    time.append(time_temp)\n",
    "\n",
    "print(author, day, date, time)"
   ]
  },
  {
   "cell_type": "code",
   "execution_count": 9,
   "id": "220987fc-d74f-492b-adb1-efc462c118b7",
   "metadata": {},
   "outputs": [
    {
     "name": "stdout",
     "output_type": "stream",
     "text": [
      "                                       article title  \\\n",
      "0  Akhirnya, AS Temukan Jet Tempur Siluman F-35 y...   \n",
      "1  Siskaeee Janji Penuhi Panggilan Pemeriksaan Ka...   \n",
      "2  Lonjakan Harga Beras Dunia Cuatkan Harapan-Nes...   \n",
      "3  Jokowi soal Punya Data Intelijen: Itu Makanan ...   \n",
      "4  5 Fakta Nur Utami Selebgram Tersangka Baru Jar...   \n",
      "\n",
      "                                                link               author  \\\n",
      "0  https://news.detik.com/internasional/d-6938705...   Novi Christiastuti   \n",
      "1  https://news.detik.com/berita/d-6938704/siskae...     Wildan Noviansah   \n",
      "2  https://news.detik.com/dw/d-6938693/lonjakan-h...  Deutsche Welle (DW)   \n",
      "3  https://news.detik.com/pemilu/d-6938482/jokowi...      Anggi Muliawati   \n",
      "4  https://news.detik.com/berita/d-6938436/5-fakt...         Tim detikcom   \n",
      "\n",
      "      day         date   time  \n",
      "0  Selasa  19 Sep 2023  10:27  \n",
      "1  Selasa  19 Sep 2023  10:27  \n",
      "2  Selasa  19 Sep 2023  10:21  \n",
      "3  Selasa  19 Sep 2023  08:05  \n",
      "4  Selasa  19 Sep 2023  07:00  \n"
     ]
    }
   ],
   "source": [
    "# Putting extracted information to a csv format\n",
    "df = pd.DataFrame(\n",
    "    {'article title': article_title,\n",
    "     'link': links,\n",
    "    'author': author,\n",
    "    'day': day,\n",
    "    'date': date,\n",
    "    'time': time\n",
    "    })\n",
    "\n",
    "print (df.head())\n",
    "\n",
    "df.to_csv('detiknews_articles.csv', index=False)"
   ]
  },
  {
   "cell_type": "code",
   "execution_count": 10,
   "id": "47f63482-6a2d-4414-803b-eaa020119bb3",
   "metadata": {},
   "outputs": [
    {
     "name": "stdout",
     "output_type": "stream",
     "text": [
      "Code ran\n"
     ]
    }
   ],
   "source": [
    "# Downloading data\n",
    "url_n1 = links[0]\n",
    "response_n1 = requests.get(url_n1,headers=headers)\n",
    "soup_n1 = BeautifulSoup(response_n1.text, \"html.parser\")\n",
    "print(\"Code ran\")"
   ]
  },
  {
   "cell_type": "code",
   "execution_count": 11,
   "id": "db27b92a-c160-4e08-b187-88326963d3f9",
   "metadata": {},
   "outputs": [
    {
     "name": "stdout",
     "output_type": "stream",
     "text": [
      "[<div class=\"detail__author\">Novi Christiastuti - <span class=\"detail__label\">detikNews</span></div>]\n"
     ]
    }
   ],
   "source": [
    "author_name = soup_n1.select('div.detail__author')\n",
    "print(author_name)\n",
    "# print(\" \")\n",
    "# print(\"Amount of titles available = \",len(soup.select('div h2.media__title')))"
   ]
  },
  {
   "cell_type": "code",
   "execution_count": 12,
   "id": "8f5cb6f7-23f0-456d-9367-4875b9dd45b4",
   "metadata": {},
   "outputs": [
    {
     "name": "stdout",
     "output_type": "stream",
     "text": [
      "[<div class=\"detail__date\">Selasa, 19 Sep 2023 10:27 WIB</div>]\n"
     ]
    }
   ],
   "source": [
    "news_date = soup_n1.select('div.detail__date')\n",
    "print(news_date)"
   ]
  },
  {
   "cell_type": "code",
   "execution_count": 13,
   "id": "c57e4371-0dd0-4e4d-9ad9-951857fa1627",
   "metadata": {},
   "outputs": [
    {
     "name": "stdout",
     "output_type": "stream",
     "text": [
      "Novi Christiastuti\n"
     ]
    }
   ],
   "source": [
    "author_div = soup_n1.select_one('div.detail__author')  # Select the author div\n",
    "\n",
    "if author_div:\n",
    "    author_name = author_div.get_text(strip=True).split('-')[0].strip()\n",
    "    print(author_name)\n",
    "else:\n",
    "    print(\"Author div not found.\")"
   ]
  },
  {
   "cell_type": "code",
   "execution_count": 14,
   "id": "1c3c36e4-745a-400a-8f7c-edf9227198ad",
   "metadata": {},
   "outputs": [
    {
     "name": "stdout",
     "output_type": "stream",
     "text": [
      "Selasa, 19 Sep 2023 10:27 WIB\n"
     ]
    }
   ],
   "source": [
    "date_div = soup_n1.select_one('div.detail__date')  # Select the author div\n",
    "\n",
    "if date_div:\n",
    "    news_date = date_div.get_text(strip=True).split('-')[0].strip()\n",
    "    print(news_date)\n",
    "else:\n",
    "    print(\"News date div not found.\")"
   ]
  },
  {
   "cell_type": "code",
   "execution_count": 15,
   "id": "32c44fd9-424c-4896-8d20-d311f674fbe2",
   "metadata": {},
   "outputs": [
    {
     "name": "stdout",
     "output_type": "stream",
     "text": [
      "Day: Selasa\n",
      "Date: 19 Sep 2023\n",
      "Time: 10:27\n"
     ]
    }
   ],
   "source": [
    "date_parts = news_date.split()\n",
    "\n",
    "day_temp = date_parts[0].replace(',', '') \n",
    "date_temp = \" \".join(date_parts[1:4])  \n",
    "time_temp = date_parts[4] \n",
    "\n",
    "print(\"Day:\", day_temp)\n",
    "print(\"Date:\", date_temp)\n",
    "print(\"Time:\", time_temp)"
   ]
  },
  {
   "cell_type": "code",
   "execution_count": 16,
   "id": "7d2dc631-9288-49cb-ba81-46925a13ef23",
   "metadata": {},
   "outputs": [
    {
     "name": "stdout",
     "output_type": "stream",
     "text": [
      "['Novi Christiastuti'] ['Selasa'] ['19 Sep 2023'] ['10:27']\n"
     ]
    }
   ],
   "source": [
    "author = []\n",
    "day = []\n",
    "date = []\n",
    "time = []\n",
    "\n",
    "author.append(author_name)\n",
    "day.append(day_temp)\n",
    "date.append(date_temp)\n",
    "time.append(time_temp)\n",
    "\n",
    "print(author, day, date, time)"
   ]
  },
  {
   "cell_type": "code",
   "execution_count": 67,
   "id": "2f238c73-e7a6-45d8-84d3-771b7fef2d3e",
   "metadata": {},
   "outputs": [
    {
     "name": "stdout",
     "output_type": "stream",
     "text": [
      "Code ran\n"
     ]
    }
   ],
   "source": [
    "# Fake Python - Fake Jobs for Your Web Scraping Journey\n",
    "# Send a GET request to a website, parse the HTML, and confirm successful execution\n",
    "url = 'https://realpython.github.io/fake-jobs/'\n",
    "response = requests.get(url,headers=headers)\n",
    "soup = BeautifulSoup(response.text, \"html.parser\")\n",
    "print(\"Code ran\")"
   ]
  },
  {
   "cell_type": "code",
   "execution_count": 83,
   "id": "5bb55448-3697-4624-b33a-0ce2f02974c2",
   "metadata": {},
   "outputs": [],
   "source": [
    "# Extracting information and populating the lists\n",
    "company_name = []\n",
    "position = []\n",
    "date_added = []\n",
    "location = []\n",
    "image_url = []\n",
    "\n",
    "for x in soup.select('div h3.subtitle.is-6.company'):\n",
    "    company_name_text = x.get_text().strip()  # Strip newline\n",
    "    company_name.append(company_name_text)\n",
    "# print(company_name)\n",
    "\n",
    "for x in soup.select('div h2.title.is-5'):\n",
    "    position_text = x.get_text().strip()  # Strip newline\n",
    "    position.append(position_text)\n",
    "# print(position)\n",
    "\n",
    "for x in soup.select('div p time'):\n",
    "    date_added_text = x.get_text().strip()  # Strip newline\n",
    "    date_added.append(date_added_text)\n",
    "# print(date_added)\n",
    "\n",
    "for x in soup.select('div p.location'):\n",
    "    location_text = x.get_text().strip()  # Strip newline\n",
    "    location.append(location_text)\n",
    "# print(location)\n",
    "\n",
    "for x in soup.select('div figure.image.is-48x48'):\n",
    "    img_element = x.find('img')  \n",
    "    if img_element:\n",
    "        src = img_element.get('src')\n",
    "        image_url.append(src)\n",
    "# print(image_url)\n"
   ]
  },
  {
   "cell_type": "code",
   "execution_count": 84,
   "id": "7d7615ef-3a7d-4002-88a9-a2af14c28dbe",
   "metadata": {},
   "outputs": [
    {
     "name": "stdout",
     "output_type": "stream",
     "text": [
      "                 company name                 position  date added  \\\n",
      "0    Payne, Roberts and Davis  Senior Python Developer  2021-04-08   \n",
      "1            Vasquez-Davidson          Energy engineer  2021-04-08   \n",
      "2  Jackson, Chambers and Levy          Legal executive  2021-04-08   \n",
      "3              Savage-Bradley   Fitness centre manager  2021-04-08   \n",
      "4                 Ramirez Inc          Product manager  2021-04-08   \n",
      "\n",
      "               location                                          image_url  \n",
      "0       Stewartbury, AA  https://files.realpython.com/media/real-python...  \n",
      "1  Christopherville, AA  https://files.realpython.com/media/real-python...  \n",
      "2   Port Ericaburgh, AA  https://files.realpython.com/media/real-python...  \n",
      "3     East Seanview, AP  https://files.realpython.com/media/real-python...  \n",
      "4   North Jamieview, AP  https://files.realpython.com/media/real-python...  \n"
     ]
    }
   ],
   "source": [
    "# Putting extracted information to a csv format\n",
    "df = pd.DataFrame(\n",
    "    {'company name': company_name,\n",
    "     'position': position,\n",
    "    'date added': date_added,\n",
    "    'location': location,\n",
    "    'image_url': image_url\n",
    "    })\n",
    "\n",
    "print (df.head())\n",
    "\n",
    "df.to_csv('fake_jobs_for_your_web_scraping_journey.csv', index=False)"
   ]
  }
 ],
 "metadata": {
  "kernelspec": {
   "display_name": "Python 3 (ipykernel)",
   "language": "python",
   "name": "python3"
  },
  "language_info": {
   "codemirror_mode": {
    "name": "ipython",
    "version": 3
   },
   "file_extension": ".py",
   "mimetype": "text/x-python",
   "name": "python",
   "nbconvert_exporter": "python",
   "pygments_lexer": "ipython3",
   "version": "3.10.4"
  }
 },
 "nbformat": 4,
 "nbformat_minor": 5
}
